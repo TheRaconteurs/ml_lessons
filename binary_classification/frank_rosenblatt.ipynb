{
  "nbformat": 4,
  "nbformat_minor": 0,
  "metadata": {
    "colab": {
      "provenance": [],
      "authorship_tag": "ABX9TyOfydF5gLlW7zk+7aEj2nR1",
      "include_colab_link": true
    },
    "kernelspec": {
      "name": "python3",
      "display_name": "Python 3"
    },
    "language_info": {
      "name": "python"
    }
  },
  "cells": [
    {
      "cell_type": "markdown",
      "metadata": {
        "id": "view-in-github",
        "colab_type": "text"
      },
      "source": [
        "<a href=\"https://colab.research.google.com/github/TheRaconteurs/ml_lessons/blob/main/binary_classification/frank_rosenblatt.ipynb\" target=\"_parent\"><img src=\"https://colab.research.google.com/assets/colab-badge.svg\" alt=\"Open In Colab\"/></a>"
      ]
    },
    {
      "cell_type": "markdown",
      "source": [
        "**Binary Classification** using Frank Rosenblatt's algorithm\n",
        "---\n",
        "\n",
        "\n",
        "Split in (ladybugs = 1) and (caterpillars = -1)"
      ],
      "metadata": {
        "id": "VQXD4Y-e6aCk"
      }
    },
    {
      "cell_type": "code",
      "execution_count": 33,
      "metadata": {
        "id": "AXXmq42A1UL8"
      },
      "outputs": [],
      "source": [
        "import numpy as np\n",
        "import matplotlib.pyplot as plt"
      ]
    },
    {
      "cell_type": "code",
      "source": [
        "x_train = np.array([[10, 50], [20, 30], [25, 30], [20, 60], [15, 70], [40, 40], [30, 45], [20, 45], [40, 30], [7, 35]])\n",
        "y_train = np.array([-1, 1, 1, -1, -1, 1, 1, -1, 1, -1])"
      ],
      "metadata": {
        "id": "-ohvGHVT1gHm"
      },
      "execution_count": 34,
      "outputs": []
    },
    {
      "cell_type": "code",
      "source": [
        "n_train = len(x_train)  # dataset size\n",
        "w = [0, -1]  # init vector\n",
        "a = lambda x: np.sign(x[0] * w[0] + x[1] * w[1])  # decision rule\n",
        "N = 50  # max iterations\n",
        "L = 0.1  # step\n",
        "e = 0.1  # supplement for w[0]\n",
        "\n",
        "last_error_index = -1\n",
        "\n",
        "for n in range(N):\n",
        "    for i in range(n_train):\n",
        "        if y_train[i] * a(x_train[i]) < 0:\n",
        "            w[0] += L * y_train[i]  # correction w[0]\n",
        "            last_error_index = i\n",
        "    Q = sum([1 for i in range(n_train) if y_train[i] * a(x_train[i]) < 0])\n",
        "    if Q == 0:  # num of errors\n",
        "        break  \n",
        "\n",
        "if last_error_index > -1:\n",
        "    w[0] += e * y_train[last_error_index]\n",
        "\n",
        "print(f'w = {w}')"
      ],
      "metadata": {
        "colab": {
          "base_uri": "https://localhost:8080/"
        },
        "id": "fWeNuxss1sHQ",
        "outputId": "be6c8b0c-25a9-4243-cf17-8e990cf79cb6"
      },
      "execution_count": 35,
      "outputs": [
        {
          "output_type": "stream",
          "name": "stdout",
          "text": [
            "w = [1.6000000000000003, -1]\n"
          ]
        }
      ]
    },
    {
      "cell_type": "code",
      "source": [
        "line_x = list(range(max(x_train[:, 0])))\n",
        "line_y = [w[0] * x for x in line_x]\n",
        "\n",
        "x_0 = x_train[y_train == 1]\n",
        "x_1 = x_train[y_train == -1]\n",
        "\n",
        "plt.scatter(x_0[:, 0], x_0[:, 1], color='red', label='ladybugs')\n",
        "plt.scatter(x_1[:, 0], x_1[:, 1], color='blue', label='caterpillars')\n",
        "plt.plot(line_x, line_y, color='green')\n",
        "\n",
        "plt.ylabel('length')\n",
        "plt.xlabel('width')\n",
        "# plt.grid(True)\n",
        "plt.legend()\n",
        "\n",
        "plt.show()"
      ],
      "metadata": {
        "colab": {
          "base_uri": "https://localhost:8080/",
          "height": 279
        },
        "id": "8lzdVKlD13-d",
        "outputId": "efc4611b-bdbc-444f-db82-ed77a3eb4552"
      },
      "execution_count": 36,
      "outputs": [
        {
          "output_type": "display_data",
          "data": {
            "text/plain": [
              "<Figure size 432x288 with 1 Axes>"
            ],
            "image/png": "[encoded data removed]"
          },
          "metadata": {
            "needs_background": "light"
          }
        }
      ]
    }
  ]
}