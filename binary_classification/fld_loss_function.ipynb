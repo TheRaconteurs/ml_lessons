{
  "nbformat": 4,
  "nbformat_minor": 0,
  "metadata": {
    "colab": {
      "provenance": [],
      "authorship_tag": "ABX9TyPMe3zaW2/mPEtGoX4adzDI",
      "include_colab_link": true
    },
    "kernelspec": {
      "name": "python3",
      "display_name": "Python 3"
    },
    "language_info": {
      "name": "python"
    }
  },
  "cells": [
    {
      "cell_type": "markdown",
      "metadata": {
        "id": "view-in-github",
        "colab_type": "text"
      },
      "source": [
        "<a href=\"https://colab.research.google.com/github/TheRaconteurs/ml_lessons/blob/main/binary_classification/fld_loss_function.ipynb\" target=\"_parent\"><img src=\"https://colab.research.google.com/assets/colab-badge.svg\" alt=\"Open In Colab\"/></a>"
      ]
    },
    {
      "cell_type": "markdown",
      "source": [
        "#**Binary classification** using FLD Loss Function\n",
        "\n",
        ">#### ${L_i(\\omega)=(1-M_i)^2=(1-\\omega^T\\cdot x_i\\cdot y_i)^2}$\n",
        ">#### ${Q(\\omega)=\\sum_{i=1}^l(1-\\omega^T\\cdot x_i\\cdot y_i)^2\\rightarrow \\min(\\omega)}$\n",
        ">#### ${\\frac{dQ(\\omega)}{d\\omega}=-2\\cdot\\sum_{i=1}^l(1-\\omega^T\\cdot x_i\\cdot y_i)\\cdot x_i^T\\cdot y_i=0}$\n",
        ">#### ${\\sum_{i=1}^l x_i^T\\cdot y_i-\\omega^T\\cdot\\sum_{i=1}^l x_i\\cdot x_i^T\\cdot y_i^2=0}$\n",
        ">#### ${\\omega^T=\\sum_{i=1}^l x_i^T\\cdot y_i\\cdot (\\sum_{i=1}^l x_i\\cdot x_i^T)^{-1}}$"
      ],
      "metadata": {
        "id": "R7YCHGBMJYx-"
      }
    },
    {
      "cell_type": "code",
      "execution_count": 1,
      "metadata": {
        "id": "VsamukJfIo3A"
      },
      "outputs": [],
      "source": [
        "import numpy as np\n",
        "import matplotlib.pyplot as plt"
      ]
    },
    {
      "cell_type": "code",
      "source": [
        "x_train = [[10, 50], [20, 30], [25, 30], [20, 60], [15, 70], [40, 40], [30, 45], [20, 45], [40, 30], [7, 35]]\n",
        "x_train = [x + [1] for x in x_train]\n",
        "x_train = np.array(x_train)\n",
        "y_train = np.array([-1, 1, 1, -1, -1, 1, 1, -1, 1, -1])"
      ],
      "metadata": {
        "id": "hIsQX-eVP0hM"
      },
      "execution_count": 2,
      "outputs": []
    },
    {
      "cell_type": "code",
      "source": [
        "pt = np.sum([x * y for x, y in zip(x_train, y_train)], axis=0)\n",
        "xxt = np.sum([np.outer(x, x) for x in x_train], axis=0)\n",
        "w = np.dot(pt, np.linalg.inv(xxt))\n",
        "print(f'w[1] = {round(w[0], 3)}\\nw[2] = {round(w[1], 3)}\\nw[0] = {round(w[2], 3)}')\n",
        "print(f'y = kx + b, k = -w[1]/w[2] = {round(-w[0] / w[1], 3)}')"
      ],
      "metadata": {
        "colab": {
          "base_uri": "https://localhost:8080/"
        },
        "id": "2RuvLQX9QKts",
        "outputId": "0e707479-8ba0-4464-8a25-7b5c56963876"
      },
      "execution_count": 14,
      "outputs": [
        {
          "output_type": "stream",
          "name": "stdout",
          "text": [
            "w[1] = 0.058\n",
            "w[2] = -0.035\n",
            "w[0] = 0.191\n",
            "y = kx + b, k = -w[1]/w[2] = 1.673\n"
          ]
        }
      ]
    },
    {
      "cell_type": "code",
      "source": [
        "line_x = list(range(max(x_train[:, 0])))\n",
        "line_y = [-x * (w[0] / w[1]) - (w[2] / w[1]) for x in line_x]\n",
        "\n",
        "x_0 = x_train[y_train == 1]\n",
        "x_1 = x_train[y_train == -1]\n",
        "\n",
        "plt.scatter(x_0[:, 0], x_0[:, 1], color='red', label='ladybugs')\n",
        "plt.scatter(x_1[:, 0], x_1[:, 1], color='blue', label='caterpillars')\n",
        "plt.plot(line_x, line_y, color='green')\n",
        "\n",
        "plt.ylabel(\"length\")\n",
        "plt.xlabel(\"width\")\n",
        "# plt.grid(True)\n",
        "plt.legend()\n",
        "\n",
        "plt.show()"
      ],
      "metadata": {
        "colab": {
          "base_uri": "https://localhost:8080/",
          "height": 279
        },
        "id": "qWGCn03mQOw4",
        "outputId": "71869714-d179-44bd-f833-bf8387e9834c"
      },
      "execution_count": 15,
      "outputs": [
        {
          "output_type": "display_data",
          "data": {
            "text/plain": [
              "<Figure size 432x288 with 1 Axes>"
            ],
            "image/png": "[encoded data removed]"
          },
          "metadata": {
            "needs_background": "light"
          }
        }
      ]
    }
  ]
}